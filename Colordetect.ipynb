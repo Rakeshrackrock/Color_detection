# importing required libraries, NumPy for python, cv2 for OpenCV & matplotlib for displaying the images
import numpy as np
import cv2
import matplotlib.pyplot as plt

# Reading the images into a variable using the OpenCV function
msrit = cv2.imread("C:/Users/Rakes/Desktop/msrit.png")

# printing the read images
plt.imshow(msrit)

# image which is read is not the original image
# because by default OpenCV reads the images in BGR Format

# Converting BGR format to RGB format using OpenCV function
rgb_msrit = cv2.cvtColor(msrit, cv2.COLOR_BGR2RGB)
# printing the converted RGB images
plt.imshow(rgb_msrit)

# Converting RGB to HSV format
hsv_msrit = cv2.cvtColor(rgb_msrit, cv2.COLOR_RGB2HSV)

#Setting upper & lower threshold values
#green
lowerHSV = np.array([45,150,50])
upperHSV = np.array([65,255,255])

#  Any value in between this range will be displayed & other parts will be discarded
Res = cv2.inRange(hsv_msrit, lowerHSV, upperHSV)
# Display the result, as this is not the final result, its the detected image is masked
plt.imshow(Res)

# Display the final result (Detecting the green color in the image)
Fin_Res = cv2.bitwise_and(rgb_msrit, rgb_msrit, mask = Res)
plt.imshow(Fin_Res)
